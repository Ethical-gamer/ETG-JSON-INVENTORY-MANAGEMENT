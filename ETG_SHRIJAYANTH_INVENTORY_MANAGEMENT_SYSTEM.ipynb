{
  "nbformat": 4,
  "nbformat_minor": 0,
  "metadata": {
    "colab": {
      "name": "ETG SHRIJAYANTH INVENTORY MANAGEMENT SYSTEM",
      "provenance": [],
      "collapsed_sections": []
    },
    "kernelspec": {
      "name": "python3",
      "display_name": "Python 3"
    },
    "language_info": {
      "name": "python"
    }
  },
  "cells": [
    {
      "cell_type": "markdown",
      "metadata": {
        "id": "rvuS6Iy9A_3u"
      },
      "source": [
        "GROCERY MENU\n"
      ]
    },
    {
      "cell_type": "code",
      "metadata": {
        "id": "Rxj0UsdLBCE0"
      },
      "source": [
        "record={10001:{'Name':'fennel(100gm)','Price':70,'Expiry date':'Jul 2022','Quantity':100},\n",
        "         10002:{'Name':'bread(100gm)','Price':120,'Expiry date':'Apr 2022','Quantity':50},\n",
        "         10003:{'Name':'jaggery(1pack)','Price':20,'Expiry date':'Sep 2021','Quantity':80},\n",
        "         10004:{'Name':'chips(100gm)','Price':100,'Expiry date':'Jul 2023','Quantity':60},\n",
        "         10005:{'Name':'pepper(1pack)','Price':50,'Expiry date':'Dec 2022','Quantity':110},\n",
        "         10006:{'Name':'ponds powder(1pack)','Price':120,'Expiry date':'Aug 2024','Quantity':100},\n",
        "         10007:{'Name':'stone salt(1pack)','Price':75,'Expiry date':'Mar 2021','Quantity':200},\n",
        "         10008:{'Name':'elaichi tea(100gm)','Price':55,'Expiry date':'Dec 2022','Quantity':65},\n",
        "         10009:{'Name':'soap powder(1kg)','Price':40,'Expiry date':'Oct 2024','Quantity':290},\n",
        "         100010:{'Name':'french fries(1pack)','Price':200,'Expiry date':'Jul 2021','Quantity':240},\n",
        "         100011:{'Name':'chekku oil(1lit)','Price':380,'Expiry date':'Mar 2025','Quantity':537},\n",
        "         100012:{'Name':'ultra sticky gum(200gm)','Price':150,'Expiry date':'Jun 2023','Quantity':300},\n",
        "         100013:{'Name':'lassi(1pack)','Price':250,'Expiry date':'Jan 2022','Quantity':400},\n",
        "         100014:{'Name':'white sauce(1bottle)','Price':300,'Expiry date':'Nov 2023','Quantity':80},\n",
        "         100015:{'Name':'sanitizer(100gm)','Price':245,'Expiry date':'Jul 2022','Quantity':330},\n",
        "         100016:{'Name':'raisins(1pack)','Price':20,'Expiry date':'May 2023','Quantity':600},\n",
        "         100017:{'Name':'tamarind(1pack)','Price':50,'Expiry date':'Jan 2022','Quantity':100},\n",
        "         100018:{'Name':'baking Powder(1pack)','Price':70,'Expiry date':'Dec 2023','Quantity':270},\n",
        "         100019:{'Name':'sugar(1pack)','Price':120,'Expiry date':'Jul 2024','Quantity':400},\n",
        "         100020:{'Name':'sandalwood soap(100gm)','Price':100,'Expiry date':'Feb 2022','Quantity':90},\n",
        "         100021:{'Name':'ice cream(1kg)','Price':200,'Expiry date':'Nov 2021','Quantity':500},\n",
        "         100022:{'Name':'garam masala(1pack)','Price':80,'Expiry date':'Jan 2024','Quantity':340},\n",
        "         100023:{'Name':'maida(1kg)','Price':90,'Expiry date':'Nov 2022','Quantity':500},\n",
        "         100024:{'Name':'urdu dhall(1kg)','Price':75,'Expiry date':'Sep 2023','Quantity':100},\n",
        "         100025:{'Name':'coriyander(1pack)','Price':30,'Expiry date':'Mar 2023','Quantity':60},\n",
        "         100026:{'Name':'rose Milk(1bottle)','Price':80,'Expiry date':'Sep 2021','Quantity':100},\n",
        "         100027:{'Name':'twisters(1pack)','Price':180,'Expiry date':'Nov 2021','Quantity':40},\n",
        "         100028:{'Name':'multivitamin tablet(100gm)','Price':130,'Expiry date':'Jul  2024','Quantity':10},\n",
        "         100029:{'Name':'organic milk(1lit)','Price':350,'Expiry date':'Apr 2022','Quantity':125},\n",
        "         100030:{'Name':'peanut butter(100gm)','Price':300,'Expiry date':'Jan 2023','Quantity':70}}"
      ],
      "execution_count": null,
      "outputs": []
    },
    {
      "cell_type": "code",
      "metadata": {
        "colab": {
          "base_uri": "https://localhost:8080/"
        },
        "id": "s8TMns5pBMPN",
        "outputId": "6e4a6907-c318-4bbb-f1d8-93051db5affb"
      },
      "source": [
        "record"
      ],
      "execution_count": null,
      "outputs": [
        {
          "output_type": "execute_result",
          "data": {
            "text/plain": [
              "{10001: {'Expiry date': 'Jul 2022',\n",
              "  'Name': 'fennel(100gm)',\n",
              "  'Price': 70,\n",
              "  'Quantity': 100},\n",
              " 10002: {'Expiry date': 'Apr 2022',\n",
              "  'Name': 'bread(100gm)',\n",
              "  'Price': 120,\n",
              "  'Quantity': 50},\n",
              " 10003: {'Expiry date': 'Sep 2021',\n",
              "  'Name': 'jaggery(1pack)',\n",
              "  'Price': 20,\n",
              "  'Quantity': 80},\n",
              " 10004: {'Expiry date': 'Jul 2023',\n",
              "  'Name': 'chips(100gm)',\n",
              "  'Price': 100,\n",
              "  'Quantity': 60},\n",
              " 10005: {'Expiry date': 'Dec 2022',\n",
              "  'Name': 'pepper(1pack)',\n",
              "  'Price': 50,\n",
              "  'Quantity': 110},\n",
              " 10006: {'Expiry date': 'Aug 2024',\n",
              "  'Name': 'ponds powder(1pack)',\n",
              "  'Price': 120,\n",
              "  'Quantity': 100},\n",
              " 10007: {'Expiry date': 'Mar 2021',\n",
              "  'Name': 'stone salt(1pack)',\n",
              "  'Price': 75,\n",
              "  'Quantity': 200},\n",
              " 10008: {'Expiry date': 'Dec 2022',\n",
              "  'Name': 'elaichi tea(100gm)',\n",
              "  'Price': 55,\n",
              "  'Quantity': 65},\n",
              " 10009: {'Expiry date': 'Oct 2024',\n",
              "  'Name': 'soap powder(1kg)',\n",
              "  'Price': 40,\n",
              "  'Quantity': 290},\n",
              " 100010: {'Expiry date': 'Jul 2021',\n",
              "  'Name': 'french fries(1pack)',\n",
              "  'Price': 200,\n",
              "  'Quantity': 240},\n",
              " 100011: {'Expiry date': 'Mar 2025',\n",
              "  'Name': 'chekku oil(1lit)',\n",
              "  'Price': 380,\n",
              "  'Quantity': 537},\n",
              " 100012: {'Expiry date': 'Jun 2023',\n",
              "  'Name': 'ultra sticky gum(200gm)',\n",
              "  'Price': 150,\n",
              "  'Quantity': 300},\n",
              " 100013: {'Expiry date': 'Jan 2022',\n",
              "  'Name': 'lassi(1pack)',\n",
              "  'Price': 250,\n",
              "  'Quantity': 400},\n",
              " 100014: {'Expiry date': 'Nov 2023',\n",
              "  'Name': 'white sauce(1bottle)',\n",
              "  'Price': 300,\n",
              "  'Quantity': 80},\n",
              " 100015: {'Expiry date': 'Jul 2022',\n",
              "  'Name': 'sanitizer(100gm)',\n",
              "  'Price': 245,\n",
              "  'Quantity': 330},\n",
              " 100016: {'Expiry date': 'May 2023',\n",
              "  'Name': 'raisins(1pack)',\n",
              "  'Price': 20,\n",
              "  'Quantity': 600},\n",
              " 100017: {'Expiry date': 'Jan 2022',\n",
              "  'Name': 'tamarind(1pack)',\n",
              "  'Price': 50,\n",
              "  'Quantity': 100},\n",
              " 100018: {'Expiry date': 'Dec 2023',\n",
              "  'Name': 'baking Powder(1pack)',\n",
              "  'Price': 70,\n",
              "  'Quantity': 270},\n",
              " 100019: {'Expiry date': 'Jul 2024',\n",
              "  'Name': 'sugar(1pack)',\n",
              "  'Price': 120,\n",
              "  'Quantity': 400},\n",
              " 100020: {'Expiry date': 'Feb 2022',\n",
              "  'Name': 'sandalwood soap(100gm)',\n",
              "  'Price': 100,\n",
              "  'Quantity': 90},\n",
              " 100021: {'Expiry date': 'Nov 2021',\n",
              "  'Name': 'ice cream(1kg)',\n",
              "  'Price': 200,\n",
              "  'Quantity': 500},\n",
              " 100022: {'Expiry date': 'Jan 2024',\n",
              "  'Name': 'garam masala(1pack)',\n",
              "  'Price': 80,\n",
              "  'Quantity': 340},\n",
              " 100023: {'Expiry date': 'Nov 2022',\n",
              "  'Name': 'maida(1kg)',\n",
              "  'Price': 90,\n",
              "  'Quantity': 500},\n",
              " 100024: {'Expiry date': 'Sep 2023',\n",
              "  'Name': 'urdu dhall(1kg)',\n",
              "  'Price': 75,\n",
              "  'Quantity': 100},\n",
              " 100025: {'Expiry date': 'Mar 2023',\n",
              "  'Name': 'coriyander(1pack)',\n",
              "  'Price': 30,\n",
              "  'Quantity': 60},\n",
              " 100026: {'Expiry date': 'Sep 2021',\n",
              "  'Name': 'rose Milk(1bottle)',\n",
              "  'Price': 80,\n",
              "  'Quantity': 100},\n",
              " 100027: {'Expiry date': 'Nov 2021',\n",
              "  'Name': 'twisters(1pack)',\n",
              "  'Price': 180,\n",
              "  'Quantity': 40},\n",
              " 100028: {'Expiry date': 'Jul  2024',\n",
              "  'Name': 'multivitamin tablet(100gm)',\n",
              "  'Price': 130,\n",
              "  'Quantity': 10},\n",
              " 100029: {'Expiry date': 'Apr 2022',\n",
              "  'Name': 'organic milk(1lit)',\n",
              "  'Price': 350,\n",
              "  'Quantity': 125},\n",
              " 100030: {'Expiry date': 'Jan 2023',\n",
              "  'Name': 'peanut butter(100gm)',\n",
              "  'Price': 300,\n",
              "  'Quantity': 70}}"
            ]
          },
          "metadata": {},
          "execution_count": 2
        }
      ]
    },
    {
      "cell_type": "code",
      "metadata": {
        "id": "JvM0yI06BWdW"
      },
      "source": [
        "import json"
      ],
      "execution_count": null,
      "outputs": []
    },
    {
      "cell_type": "code",
      "metadata": {
        "id": "xMEl0JqZBgcH"
      },
      "source": [
        "js = json.dumps(record)"
      ],
      "execution_count": null,
      "outputs": []
    },
    {
      "cell_type": "code",
      "metadata": {
        "colab": {
          "base_uri": "https://localhost:8080/",
          "height": 153
        },
        "id": "feNtOMKKBnJu",
        "outputId": "83dad8a2-3433-494b-9ab7-2f6f40b8ffb2"
      },
      "source": [
        "js"
      ],
      "execution_count": null,
      "outputs": [
        {
          "output_type": "execute_result",
          "data": {
            "application/vnd.google.colaboratory.intrinsic+json": {
              "type": "string"
            },
            "text/plain": [
              "'{\"10001\": {\"Name\": \"fennel(100gm)\", \"Price\": 70, \"Expiry date\": \"Jul 2022\", \"Quantity\": 100}, \"10002\": {\"Name\": \"bread(100gm)\", \"Price\": 120, \"Expiry date\": \"Apr 2022\", \"Quantity\": 50}, \"10003\": {\"Name\": \"jaggery(1pack)\", \"Price\": 20, \"Expiry date\": \"Sep 2021\", \"Quantity\": 80}, \"10004\": {\"Name\": \"chips(100gm)\", \"Price\": 100, \"Expiry date\": \"Jul 2023\", \"Quantity\": 60}, \"10005\": {\"Name\": \"pepper(1pack)\", \"Price\": 50, \"Expiry date\": \"Dec 2022\", \"Quantity\": 110}, \"10006\": {\"Name\": \"ponds powder(1pack)\", \"Price\": 120, \"Expiry date\": \"Aug 2024\", \"Quantity\": 100}, \"10007\": {\"Name\": \"stone salt(1pack)\", \"Price\": 75, \"Expiry date\": \"Mar 2021\", \"Quantity\": 200}, \"10008\": {\"Name\": \"elaichi tea(100gm)\", \"Price\": 55, \"Expiry date\": \"Dec 2022\", \"Quantity\": 65}, \"10009\": {\"Name\": \"soap powder(1kg)\", \"Price\": 40, \"Expiry date\": \"Oct 2024\", \"Quantity\": 290}, \"100010\": {\"Name\": \"french fries(1pack)\", \"Price\": 200, \"Expiry date\": \"Jul 2021\", \"Quantity\": 240}, \"100011\": {\"Name\": \"chekku oil(1lit)\", \"Price\": 380, \"Expiry date\": \"Mar 2025\", \"Quantity\": 537}, \"100012\": {\"Name\": \"ultra sticky gum(200gm)\", \"Price\": 150, \"Expiry date\": \"Jun 2023\", \"Quantity\": 300}, \"100013\": {\"Name\": \"lassi(1pack)\", \"Price\": 250, \"Expiry date\": \"Jan 2022\", \"Quantity\": 400}, \"100014\": {\"Name\": \"white sauce(1bottle)\", \"Price\": 300, \"Expiry date\": \"Nov 2023\", \"Quantity\": 80}, \"100015\": {\"Name\": \"sanitizer(100gm)\", \"Price\": 245, \"Expiry date\": \"Jul 2022\", \"Quantity\": 330}, \"100016\": {\"Name\": \"raisins(1pack)\", \"Price\": 20, \"Expiry date\": \"May 2023\", \"Quantity\": 600}, \"100017\": {\"Name\": \"tamarind(1pack)\", \"Price\": 50, \"Expiry date\": \"Jan 2022\", \"Quantity\": 100}, \"100018\": {\"Name\": \"baking Powder(1pack)\", \"Price\": 70, \"Expiry date\": \"Dec 2023\", \"Quantity\": 270}, \"100019\": {\"Name\": \"sugar(1pack)\", \"Price\": 120, \"Expiry date\": \"Jul 2024\", \"Quantity\": 400}, \"100020\": {\"Name\": \"sandalwood soap(100gm)\", \"Price\": 100, \"Expiry date\": \"Feb 2022\", \"Quantity\": 90}, \"100021\": {\"Name\": \"ice cream(1kg)\", \"Price\": 200, \"Expiry date\": \"Nov 2021\", \"Quantity\": 500}, \"100022\": {\"Name\": \"garam masala(1pack)\", \"Price\": 80, \"Expiry date\": \"Jan 2024\", \"Quantity\": 340}, \"100023\": {\"Name\": \"maida(1kg)\", \"Price\": 90, \"Expiry date\": \"Nov 2022\", \"Quantity\": 500}, \"100024\": {\"Name\": \"urdu dhall(1kg)\", \"Price\": 75, \"Expiry date\": \"Sep 2023\", \"Quantity\": 100}, \"100025\": {\"Name\": \"coriyander(1pack)\", \"Price\": 30, \"Expiry date\": \"Mar 2023\", \"Quantity\": 60}, \"100026\": {\"Name\": \"rose Milk(1bottle)\", \"Price\": 80, \"Expiry date\": \"Sep 2021\", \"Quantity\": 100}, \"100027\": {\"Name\": \"twisters(1pack)\", \"Price\": 180, \"Expiry date\": \"Nov 2021\", \"Quantity\": 40}, \"100028\": {\"Name\": \"multivitamin tablet(100gm)\", \"Price\": 130, \"Expiry date\": \"Jul  2024\", \"Quantity\": 10}, \"100029\": {\"Name\": \"organic milk(1lit)\", \"Price\": 350, \"Expiry date\": \"Apr 2022\", \"Quantity\": 125}, \"100030\": {\"Name\": \"peanut butter(100gm)\", \"Price\": 300, \"Expiry date\": \"Jan 2023\", \"Quantity\": 70}}'"
            ]
          },
          "metadata": {},
          "execution_count": 5
        }
      ]
    },
    {
      "cell_type": "code",
      "metadata": {
        "colab": {
          "base_uri": "https://localhost:8080/"
        },
        "id": "iqHIpm8lBwwN",
        "outputId": "736e55db-2f77-4394-9d13-3859978d8237"
      },
      "source": [
        "record"
      ],
      "execution_count": null,
      "outputs": [
        {
          "output_type": "execute_result",
          "data": {
            "text/plain": [
              "{10001: {'Expiry date': 'Jul 2022',\n",
              "  'Name': 'fennel(100gm)',\n",
              "  'Price': 70,\n",
              "  'Quantity': 100},\n",
              " 10002: {'Expiry date': 'Apr 2022',\n",
              "  'Name': 'bread(100gm)',\n",
              "  'Price': 120,\n",
              "  'Quantity': 50},\n",
              " 10003: {'Expiry date': 'Sep 2021',\n",
              "  'Name': 'jaggery(1pack)',\n",
              "  'Price': 20,\n",
              "  'Quantity': 80},\n",
              " 10004: {'Expiry date': 'Jul 2023',\n",
              "  'Name': 'chips(100gm)',\n",
              "  'Price': 100,\n",
              "  'Quantity': 60},\n",
              " 10005: {'Expiry date': 'Dec 2022',\n",
              "  'Name': 'pepper(1pack)',\n",
              "  'Price': 50,\n",
              "  'Quantity': 110},\n",
              " 10006: {'Expiry date': 'Aug 2024',\n",
              "  'Name': 'ponds powder(1pack)',\n",
              "  'Price': 120,\n",
              "  'Quantity': 100},\n",
              " 10007: {'Expiry date': 'Mar 2021',\n",
              "  'Name': 'stone salt(1pack)',\n",
              "  'Price': 75,\n",
              "  'Quantity': 200},\n",
              " 10008: {'Expiry date': 'Dec 2022',\n",
              "  'Name': 'elaichi tea(100gm)',\n",
              "  'Price': 55,\n",
              "  'Quantity': 65},\n",
              " 10009: {'Expiry date': 'Oct 2024',\n",
              "  'Name': 'soap powder(1kg)',\n",
              "  'Price': 40,\n",
              "  'Quantity': 290},\n",
              " 100010: {'Expiry date': 'Jul 2021',\n",
              "  'Name': 'french fries(1pack)',\n",
              "  'Price': 200,\n",
              "  'Quantity': 240},\n",
              " 100011: {'Expiry date': 'Mar 2025',\n",
              "  'Name': 'chekku oil(1lit)',\n",
              "  'Price': 380,\n",
              "  'Quantity': 537},\n",
              " 100012: {'Expiry date': 'Jun 2023',\n",
              "  'Name': 'ultra sticky gum(200gm)',\n",
              "  'Price': 150,\n",
              "  'Quantity': 300},\n",
              " 100013: {'Expiry date': 'Jan 2022',\n",
              "  'Name': 'lassi(1pack)',\n",
              "  'Price': 250,\n",
              "  'Quantity': 400},\n",
              " 100014: {'Expiry date': 'Nov 2023',\n",
              "  'Name': 'white sauce(1bottle)',\n",
              "  'Price': 300,\n",
              "  'Quantity': 80},\n",
              " 100015: {'Expiry date': 'Jul 2022',\n",
              "  'Name': 'sanitizer(100gm)',\n",
              "  'Price': 245,\n",
              "  'Quantity': 330},\n",
              " 100016: {'Expiry date': 'May 2023',\n",
              "  'Name': 'raisins(1pack)',\n",
              "  'Price': 20,\n",
              "  'Quantity': 600},\n",
              " 100017: {'Expiry date': 'Jan 2022',\n",
              "  'Name': 'tamarind(1pack)',\n",
              "  'Price': 50,\n",
              "  'Quantity': 100},\n",
              " 100018: {'Expiry date': 'Dec 2023',\n",
              "  'Name': 'baking Powder(1pack)',\n",
              "  'Price': 70,\n",
              "  'Quantity': 270},\n",
              " 100019: {'Expiry date': 'Jul 2024',\n",
              "  'Name': 'sugar(1pack)',\n",
              "  'Price': 120,\n",
              "  'Quantity': 400},\n",
              " 100020: {'Expiry date': 'Feb 2022',\n",
              "  'Name': 'sandalwood soap(100gm)',\n",
              "  'Price': 100,\n",
              "  'Quantity': 90},\n",
              " 100021: {'Expiry date': 'Nov 2021',\n",
              "  'Name': 'ice cream(1kg)',\n",
              "  'Price': 200,\n",
              "  'Quantity': 500},\n",
              " 100022: {'Expiry date': 'Jan 2024',\n",
              "  'Name': 'garam masala(1pack)',\n",
              "  'Price': 80,\n",
              "  'Quantity': 340},\n",
              " 100023: {'Expiry date': 'Nov 2022',\n",
              "  'Name': 'maida(1kg)',\n",
              "  'Price': 90,\n",
              "  'Quantity': 500},\n",
              " 100024: {'Expiry date': 'Sep 2023',\n",
              "  'Name': 'urdu dhall(1kg)',\n",
              "  'Price': 75,\n",
              "  'Quantity': 100},\n",
              " 100025: {'Expiry date': 'Mar 2023',\n",
              "  'Name': 'coriyander(1pack)',\n",
              "  'Price': 30,\n",
              "  'Quantity': 60},\n",
              " 100026: {'Expiry date': 'Sep 2021',\n",
              "  'Name': 'rose Milk(1bottle)',\n",
              "  'Price': 80,\n",
              "  'Quantity': 100},\n",
              " 100027: {'Expiry date': 'Nov 2021',\n",
              "  'Name': 'twisters(1pack)',\n",
              "  'Price': 180,\n",
              "  'Quantity': 40},\n",
              " 100028: {'Expiry date': 'Jul  2024',\n",
              "  'Name': 'multivitamin tablet(100gm)',\n",
              "  'Price': 130,\n",
              "  'Quantity': 10},\n",
              " 100029: {'Expiry date': 'Apr 2022',\n",
              "  'Name': 'organic milk(1lit)',\n",
              "  'Price': 350,\n",
              "  'Quantity': 125},\n",
              " 100030: {'Expiry date': 'Jan 2023',\n",
              "  'Name': 'peanut butter(100gm)',\n",
              "  'Price': 300,\n",
              "  'Quantity': 70}}"
            ]
          },
          "metadata": {},
          "execution_count": 6
        }
      ]
    },
    {
      "cell_type": "code",
      "metadata": {
        "id": "gGxTAgP6B1Rm"
      },
      "source": [
        "fd = open(\"record.json\",'w')\n",
        "fd.write(js)\n",
        "fd.close()"
      ],
      "execution_count": null,
      "outputs": []
    },
    {
      "cell_type": "code",
      "metadata": {
        "id": "gt90BRXRCB5Z"
      },
      "source": [
        "fd = open(\"record.json\",'r')\n",
        "          \n",
        "fd.read()\n",
        "fd.close()"
      ],
      "execution_count": null,
      "outputs": []
    },
    {
      "cell_type": "markdown",
      "metadata": {
        "id": "YTzwQNw4CXzK"
      },
      "source": [
        "ADDING NEW ITEMS TO RECORD IN GROCERY MENU"
      ]
    },
    {
      "cell_type": "code",
      "metadata": {
        "id": "z0b_QoTuCep2"
      },
      "source": [
        "#grocery = json.loads(record)"
      ],
      "execution_count": null,
      "outputs": []
    },
    {
      "cell_type": "code",
      "metadata": {
        "colab": {
          "base_uri": "https://localhost:8080/"
        },
        "id": "8MAce7z5Cr13",
        "outputId": "7f0f79ba-60ba-4a9f-842e-8b475b79e730"
      },
      "source": [
        "prod_id = int(input(\"Enter product id:\"))\n",
        "name = str(input(\"Enter Name:\"))\n",
        "pr = int(input(\"Enter Price:\"))\n",
        "ex = str(input(\"Enter Expiry date:\"))\n",
        "qn = int(input(\"Enter Quantity:\"))\n",
        "\n",
        "record[prod_id] = {'Name': name, 'Price': pr, 'Expiry date': ex, 'Quantity': qn}"
      ],
      "execution_count": null,
      "outputs": [
        {
          "name": "stdout",
          "output_type": "stream",
          "text": [
            "Enter product id:100055\n",
            "Enter Name:arab dates(1pack)\n",
            "Enter Price:360\n",
            "Enter Expiry date:Jan 2022\n",
            "Enter Quantity:30\n"
          ]
        }
      ]
    },
    {
      "cell_type": "code",
      "metadata": {
        "colab": {
          "base_uri": "https://localhost:8080/"
        },
        "id": "-Yus4wZcEKAH",
        "outputId": "957fb994-22de-418b-81ca-4f0be44d660c"
      },
      "source": [
        "record"
      ],
      "execution_count": null,
      "outputs": [
        {
          "output_type": "execute_result",
          "data": {
            "text/plain": [
              "{10001: {'Expiry date': 'Jul 2022',\n",
              "  'Name': 'fennel(100gm)',\n",
              "  'Price': 70,\n",
              "  'Quantity': 100},\n",
              " 10002: {'Expiry date': 'Apr 2022',\n",
              "  'Name': 'bread(100gm)',\n",
              "  'Price': 120,\n",
              "  'Quantity': 50},\n",
              " 10003: {'Expiry date': 'Sep 2021',\n",
              "  'Name': 'jaggery(1pack)',\n",
              "  'Price': 20,\n",
              "  'Quantity': 80},\n",
              " 10004: {'Expiry date': 'Jul 2023',\n",
              "  'Name': 'chips(100gm)',\n",
              "  'Price': 100,\n",
              "  'Quantity': 60},\n",
              " 10005: {'Expiry date': 'Dec 2022',\n",
              "  'Name': 'pepper(1pack)',\n",
              "  'Price': 50,\n",
              "  'Quantity': 110},\n",
              " 10006: {'Expiry date': 'Aug 2024',\n",
              "  'Name': 'ponds powder(1pack)',\n",
              "  'Price': 120,\n",
              "  'Quantity': 100},\n",
              " 10007: {'Expiry date': 'Mar 2021',\n",
              "  'Name': 'stone salt(1pack)',\n",
              "  'Price': 75,\n",
              "  'Quantity': 200},\n",
              " 10008: {'Expiry date': 'Dec 2022',\n",
              "  'Name': 'elaichi tea(100gm)',\n",
              "  'Price': 55,\n",
              "  'Quantity': 65},\n",
              " 10009: {'Expiry date': 'Oct 2024',\n",
              "  'Name': 'soap powder(1kg)',\n",
              "  'Price': 40,\n",
              "  'Quantity': 290},\n",
              " 100010: {'Expiry date': 'Jul 2021',\n",
              "  'Name': 'french fries(1pack)',\n",
              "  'Price': 200,\n",
              "  'Quantity': 240},\n",
              " 100011: {'Expiry date': 'Mar 2025',\n",
              "  'Name': 'chekku oil(1lit)',\n",
              "  'Price': 380,\n",
              "  'Quantity': 537},\n",
              " 100012: {'Expiry date': 'Jun 2023',\n",
              "  'Name': 'ultra sticky gum(200gm)',\n",
              "  'Price': 150,\n",
              "  'Quantity': 300},\n",
              " 100013: {'Expiry date': 'Jan 2022',\n",
              "  'Name': 'lassi(1pack)',\n",
              "  'Price': 250,\n",
              "  'Quantity': 400},\n",
              " 100014: {'Expiry date': 'Nov 2023',\n",
              "  'Name': 'white sauce(1bottle)',\n",
              "  'Price': 300,\n",
              "  'Quantity': 80},\n",
              " 100015: {'Expiry date': 'Jul 2022',\n",
              "  'Name': 'sanitizer(100gm)',\n",
              "  'Price': 245,\n",
              "  'Quantity': 330},\n",
              " 100016: {'Expiry date': 'May 2023',\n",
              "  'Name': 'raisins(1pack)',\n",
              "  'Price': 20,\n",
              "  'Quantity': 600},\n",
              " 100017: {'Expiry date': 'Jan 2022',\n",
              "  'Name': 'tamarind(1pack)',\n",
              "  'Price': 50,\n",
              "  'Quantity': 100},\n",
              " 100018: {'Expiry date': 'Dec 2023',\n",
              "  'Name': 'baking Powder(1pack)',\n",
              "  'Price': 70,\n",
              "  'Quantity': 270},\n",
              " 100019: {'Expiry date': 'Jul 2024',\n",
              "  'Name': 'sugar(1pack)',\n",
              "  'Price': 120,\n",
              "  'Quantity': 400},\n",
              " 100020: {'Expiry date': 'Feb 2022',\n",
              "  'Name': 'sandalwood soap(100gm)',\n",
              "  'Price': 100,\n",
              "  'Quantity': 90},\n",
              " 100021: {'Expiry date': 'Nov 2021',\n",
              "  'Name': 'ice cream(1kg)',\n",
              "  'Price': 200,\n",
              "  'Quantity': 500},\n",
              " 100022: {'Expiry date': 'Jan 2024',\n",
              "  'Name': 'garam masala(1pack)',\n",
              "  'Price': 80,\n",
              "  'Quantity': 340},\n",
              " 100023: {'Expiry date': 'Nov 2022',\n",
              "  'Name': 'maida(1kg)',\n",
              "  'Price': 90,\n",
              "  'Quantity': 500},\n",
              " 100024: {'Expiry date': 'Sep 2023',\n",
              "  'Name': 'urdu dhall(1kg)',\n",
              "  'Price': 75,\n",
              "  'Quantity': 100},\n",
              " 100025: {'Expiry date': 'Mar 2023',\n",
              "  'Name': 'coriyander(1pack)',\n",
              "  'Price': 30,\n",
              "  'Quantity': 60},\n",
              " 100026: {'Expiry date': 'Sep 2021',\n",
              "  'Name': 'rose Milk(1bottle)',\n",
              "  'Price': 80,\n",
              "  'Quantity': 100},\n",
              " 100027: {'Expiry date': 'Nov 2021',\n",
              "  'Name': 'twisters(1pack)',\n",
              "  'Price': 180,\n",
              "  'Quantity': 40},\n",
              " 100028: {'Expiry date': 'Jul  2024',\n",
              "  'Name': 'multivitamin tablet(100gm)',\n",
              "  'Price': 130,\n",
              "  'Quantity': 10},\n",
              " 100029: {'Expiry date': 'Apr 2022',\n",
              "  'Name': 'organic milk(1lit)',\n",
              "  'Price': 350,\n",
              "  'Quantity': 125},\n",
              " 100030: {'Expiry date': 'Jan 2023',\n",
              "  'Name': 'peanut butter(100gm)',\n",
              "  'Price': 300,\n",
              "  'Quantity': 70},\n",
              " 100055: {'Expiry date': 'Jan 2022',\n",
              "  'Name': 'arab dates(1pack)',\n",
              "  'Price': 360,\n",
              "  'Quantity': 30}}"
            ]
          },
          "metadata": {},
          "execution_count": 15
        }
      ]
    },
    {
      "cell_type": "code",
      "metadata": {
        "id": "alvRDHbIEQqM"
      },
      "source": [
        "js = json.dumps(record)"
      ],
      "execution_count": null,
      "outputs": []
    },
    {
      "cell_type": "code",
      "metadata": {
        "id": "KV4xz8pzEkwF"
      },
      "source": [
        "fd = open(\"new_grocery.json\",'w')\n",
        "fd.write(js)\n",
        "fd.close()"
      ],
      "execution_count": null,
      "outputs": []
    },
    {
      "cell_type": "markdown",
      "metadata": {
        "id": "zZuEgz7yFX1M"
      },
      "source": [
        "BUYING GROCERY PRODUCT IN RECORD"
      ]
    },
    {
      "cell_type": "code",
      "metadata": {
        "colab": {
          "base_uri": "https://localhost:8080/"
        },
        "id": "bS85Q4WXFeCR",
        "outputId": "753a3c95-cec1-4026-b614-a76954117c9a"
      },
      "source": [
        "product_no = int(input(\"Enter the product_id:\"))\n",
        "quantity_no = int(input(\"Enter the Quantity:\"))\n",
        "print(\"^^^^^^^^^^^^^^^^^^^^^^^^^^^^^^^^^^^\")\n",
        "\n",
        "print(\"Product: \",record[product_no]['Name'])\n",
        "print(\"Price: \",record[product_no]['Price'])\n",
        "print(\"Billing Amount: \",record[product_no]['Price'] * quantity_no)\n",
        "\n",
        "\n",
        "print(\"~~~~~~~~~~~~~~~~~~~~~~~~~~~~~~~~~~~\")\n",
        "record[product_no]['Quantity'] = record[product_no]['Quantity'] - quantity_no\n",
        "sales = {1 : {'prod' : product_no, 'qn' : quantity_no, 'amount' : record[product_no]['Price']*quantity_no}}"
      ],
      "execution_count": null,
      "outputs": [
        {
          "output_type": "stream",
          "name": "stdout",
          "text": [
            "Enter the product_id:100010\n",
            "Enter the Quantity:50\n",
            "^^^^^^^^^^^^^^^^^^^^^^^^^^^^^^^^^^^\n",
            "Product:  french fries(1pack)\n",
            "Price:  200\n",
            "Billing Amount:  10000\n",
            "~~~~~~~~~~~~~~~~~~~~~~~~~~~~~~~~~~~\n"
          ]
        }
      ]
    },
    {
      "cell_type": "code",
      "metadata": {
        "colab": {
          "base_uri": "https://localhost:8080/"
        },
        "id": "RKuz4mwkHX-p",
        "outputId": "9efe690f-f08a-4ff7-f11a-9b626c83def5"
      },
      "source": [
        "product_no = int(input(\"Enter the product_id:\"))\n",
        "quantity_no = int(input(\"Enter the Quantity:\"))\n",
        "print(\"^^^^^^^^^^^^^^^^^^^^^^^^^^^^^^^^^^^\")\n",
        "\n",
        "print(\"Product: \",record[product_no]['Name'])\n",
        "print(\"Price: \",record[product_no]['Price'])\n",
        "print(\"Billing Amount: \",record[product_no]['Price'] * quantity_no)\n",
        "\n",
        "\n",
        "print(\"~~~~~~~~~~~~~~~~~~~~~~~~~~~~~~~~~~~\")\n",
        "record[product_no]['Quantity'] = record[product_no]['Quantity'] - quantity_no\n",
        "\n",
        "sales[len(sales) + 1] = {'prod' : product_no, 'qn' : quantity_no, 'amount' : record[product_no]['Price']*quantity_no}\n"
      ],
      "execution_count": null,
      "outputs": [
        {
          "output_type": "stream",
          "name": "stdout",
          "text": [
            "Enter the product_id:100055\n",
            "Enter the Quantity:5\n",
            "^^^^^^^^^^^^^^^^^^^^^^^^^^^^^^^^^^^\n",
            "Product:  arab dates(1pack)\n",
            "Price:  360\n",
            "Billing Amount:  1800\n",
            "~~~~~~~~~~~~~~~~~~~~~~~~~~~~~~~~~~~\n"
          ]
        }
      ]
    },
    {
      "cell_type": "code",
      "metadata": {
        "colab": {
          "base_uri": "https://localhost:8080/"
        },
        "id": "eb-hkIfwINE0",
        "outputId": "bfcaf02b-39cb-4055-d404-7b5fe7cbe758"
      },
      "source": [
        "product_no = int(input(\"Enter the product_id:\"))\n",
        "quantity_no = int(input(\"Enter the Quantity:\"))\n",
        "print(\"^^^^^^^^^^^^^^^^^^^^^^^^^^^^^^^^^^^\")\n",
        "\n",
        "print(\"Product: \",record[product_no]['Name'])\n",
        "print(\"Price: \",record[product_no]['Price'])\n",
        "print(\"Billing Amount: \",record[product_no]['Price'] * quantity_no)\n",
        "\n",
        "\n",
        "print(\"~~~~~~~~~~~~~~~~~~~~~~~~~~~~~~~~~~~\")\n",
        "record[product_no]['Quantity'] = record[product_no]['Quantity'] - quantity_no\n",
        "\n",
        "sales[len(sales) + 1] = {'prod' : product_no, 'qn' : quantity_no, 'amount' : record[product_no]['Price']*quantity_no}"
      ],
      "execution_count": null,
      "outputs": [
        {
          "output_type": "stream",
          "name": "stdout",
          "text": [
            "Enter the product_id:100029\n",
            "Enter the Quantity:10\n",
            "^^^^^^^^^^^^^^^^^^^^^^^^^^^^^^^^^^^\n",
            "Product:  organic milk(1lit)\n",
            "Price:  350\n",
            "Billing Amount:  3500\n",
            "~~~~~~~~~~~~~~~~~~~~~~~~~~~~~~~~~~~\n"
          ]
        }
      ]
    },
    {
      "cell_type": "code",
      "metadata": {
        "id": "hFgjP0bgIeCd"
      },
      "source": [
        "js = json.dumps(record)"
      ],
      "execution_count": null,
      "outputs": []
    },
    {
      "cell_type": "code",
      "metadata": {
        "colab": {
          "base_uri": "https://localhost:8080/"
        },
        "id": "5xeQMZCYI0ls",
        "outputId": "56abc366-0ebe-43bb-b6c4-62b7a5fe70a6"
      },
      "source": [
        "record"
      ],
      "execution_count": null,
      "outputs": [
        {
          "output_type": "execute_result",
          "data": {
            "text/plain": [
              "{10001: {'Expiry date': 'Jul 2022',\n",
              "  'Name': 'fennel(100gm)',\n",
              "  'Price': 70,\n",
              "  'Quantity': 100},\n",
              " 10002: {'Expiry date': 'Apr 2022',\n",
              "  'Name': 'bread(100gm)',\n",
              "  'Price': 120,\n",
              "  'Quantity': 50},\n",
              " 10003: {'Expiry date': 'Sep 2021',\n",
              "  'Name': 'jaggery(1pack)',\n",
              "  'Price': 20,\n",
              "  'Quantity': 80},\n",
              " 10004: {'Expiry date': 'Jul 2023',\n",
              "  'Name': 'chips(100gm)',\n",
              "  'Price': 100,\n",
              "  'Quantity': 60},\n",
              " 10005: {'Expiry date': 'Dec 2022',\n",
              "  'Name': 'pepper(1pack)',\n",
              "  'Price': 50,\n",
              "  'Quantity': 110},\n",
              " 10006: {'Expiry date': 'Aug 2024',\n",
              "  'Name': 'ponds powder(1pack)',\n",
              "  'Price': 120,\n",
              "  'Quantity': 100},\n",
              " 10007: {'Expiry date': 'Mar 2021',\n",
              "  'Name': 'stone salt(1pack)',\n",
              "  'Price': 75,\n",
              "  'Quantity': 200},\n",
              " 10008: {'Expiry date': 'Dec 2022',\n",
              "  'Name': 'elaichi tea(100gm)',\n",
              "  'Price': 55,\n",
              "  'Quantity': 65},\n",
              " 10009: {'Expiry date': 'Oct 2024',\n",
              "  'Name': 'soap powder(1kg)',\n",
              "  'Price': 40,\n",
              "  'Quantity': 290},\n",
              " 100010: {'Expiry date': 'Jul 2021',\n",
              "  'Name': 'french fries(1pack)',\n",
              "  'Price': 200,\n",
              "  'Quantity': 190},\n",
              " 100011: {'Expiry date': 'Mar 2025',\n",
              "  'Name': 'chekku oil(1lit)',\n",
              "  'Price': 380,\n",
              "  'Quantity': 537},\n",
              " 100012: {'Expiry date': 'Jun 2023',\n",
              "  'Name': 'ultra sticky gum(200gm)',\n",
              "  'Price': 150,\n",
              "  'Quantity': 300},\n",
              " 100013: {'Expiry date': 'Jan 2022',\n",
              "  'Name': 'lassi(1pack)',\n",
              "  'Price': 250,\n",
              "  'Quantity': 400},\n",
              " 100014: {'Expiry date': 'Nov 2023',\n",
              "  'Name': 'white sauce(1bottle)',\n",
              "  'Price': 300,\n",
              "  'Quantity': 80},\n",
              " 100015: {'Expiry date': 'Jul 2022',\n",
              "  'Name': 'sanitizer(100gm)',\n",
              "  'Price': 245,\n",
              "  'Quantity': 330},\n",
              " 100016: {'Expiry date': 'May 2023',\n",
              "  'Name': 'raisins(1pack)',\n",
              "  'Price': 20,\n",
              "  'Quantity': 600},\n",
              " 100017: {'Expiry date': 'Jan 2022',\n",
              "  'Name': 'tamarind(1pack)',\n",
              "  'Price': 50,\n",
              "  'Quantity': 100},\n",
              " 100018: {'Expiry date': 'Dec 2023',\n",
              "  'Name': 'baking Powder(1pack)',\n",
              "  'Price': 70,\n",
              "  'Quantity': 270},\n",
              " 100019: {'Expiry date': 'Jul 2024',\n",
              "  'Name': 'sugar(1pack)',\n",
              "  'Price': 120,\n",
              "  'Quantity': 400},\n",
              " 100020: {'Expiry date': 'Feb 2022',\n",
              "  'Name': 'sandalwood soap(100gm)',\n",
              "  'Price': 100,\n",
              "  'Quantity': 90},\n",
              " 100021: {'Expiry date': 'Nov 2021',\n",
              "  'Name': 'ice cream(1kg)',\n",
              "  'Price': 200,\n",
              "  'Quantity': 500},\n",
              " 100022: {'Expiry date': 'Jan 2024',\n",
              "  'Name': 'garam masala(1pack)',\n",
              "  'Price': 80,\n",
              "  'Quantity': 340},\n",
              " 100023: {'Expiry date': 'Nov 2022',\n",
              "  'Name': 'maida(1kg)',\n",
              "  'Price': 90,\n",
              "  'Quantity': 500},\n",
              " 100024: {'Expiry date': 'Sep 2023',\n",
              "  'Name': 'urdu dhall(1kg)',\n",
              "  'Price': 75,\n",
              "  'Quantity': 100},\n",
              " 100025: {'Expiry date': 'Mar 2023',\n",
              "  'Name': 'coriyander(1pack)',\n",
              "  'Price': 30,\n",
              "  'Quantity': 60},\n",
              " 100026: {'Expiry date': 'Sep 2021',\n",
              "  'Name': 'rose Milk(1bottle)',\n",
              "  'Price': 80,\n",
              "  'Quantity': 100},\n",
              " 100027: {'Expiry date': 'Nov 2021',\n",
              "  'Name': 'twisters(1pack)',\n",
              "  'Price': 180,\n",
              "  'Quantity': 40},\n",
              " 100028: {'Expiry date': 'Jul  2024',\n",
              "  'Name': 'multivitamin tablet(100gm)',\n",
              "  'Price': 130,\n",
              "  'Quantity': 10},\n",
              " 100029: {'Expiry date': 'Apr 2022',\n",
              "  'Name': 'organic milk(1lit)',\n",
              "  'Price': 350,\n",
              "  'Quantity': 115},\n",
              " 100030: {'Expiry date': 'Jan 2023',\n",
              "  'Name': 'peanut butter(100gm)',\n",
              "  'Price': 300,\n",
              "  'Quantity': 70},\n",
              " 100055: {'Expiry date': 'Jan 2022',\n",
              "  'Name': 'arab dates(1pack)',\n",
              "  'Price': 360,\n",
              "  'Quantity': 20}}"
            ]
          },
          "metadata": {},
          "execution_count": 24
        }
      ]
    },
    {
      "cell_type": "markdown",
      "metadata": {
        "id": "sFSCBfYGJSDl"
      },
      "source": [
        "UPDATING GROCERY MENU"
      ]
    },
    {
      "cell_type": "code",
      "metadata": {
        "id": "uf7IXhbCJbki"
      },
      "source": [
        "fd = open(\"purchase.json\",'w')\n",
        "fd.write(js)\n",
        "fd.close()"
      ],
      "execution_count": null,
      "outputs": []
    },
    {
      "cell_type": "markdown",
      "metadata": {
        "id": "85Wv4OldJtPc"
      },
      "source": [
        "SALES LIST\n"
      ]
    },
    {
      "cell_type": "code",
      "metadata": {
        "colab": {
          "base_uri": "https://localhost:8080/"
        },
        "id": "38C87iD0JzU2",
        "outputId": "5129c5a6-cd62-4a20-a6ae-b9e8ae2512e8"
      },
      "source": [
        "sales"
      ],
      "execution_count": null,
      "outputs": [
        {
          "output_type": "execute_result",
          "data": {
            "text/plain": [
              "{1: {'amount': 10000, 'prod': 100010, 'qn': 50},\n",
              " 2: {'amount': 1800, 'prod': 100055, 'qn': 5},\n",
              " 3: {'amount': 3500, 'prod': 100029, 'qn': 10}}"
            ]
          },
          "metadata": {},
          "execution_count": 26
        }
      ]
    },
    {
      "cell_type": "code",
      "metadata": {
        "id": "SyM2aYZgKA9m"
      },
      "source": [
        "js = json.dumps(sales)\n"
      ],
      "execution_count": null,
      "outputs": []
    },
    {
      "cell_type": "code",
      "metadata": {
        "id": "Bypnn7e4KHU3"
      },
      "source": [
        "fd = open(\"sales.json\",'w')\n",
        "fd.write(js)\n",
        "fd.close()"
      ],
      "execution_count": null,
      "outputs": []
    },
    {
      "cell_type": "code",
      "metadata": {
        "colab": {
          "base_uri": "https://localhost:8080/"
        },
        "id": "hWnWwwAMLes6",
        "outputId": "3713461c-c026-4393-9eea-e57fa6ed4125"
      },
      "source": [
        "record"
      ],
      "execution_count": null,
      "outputs": [
        {
          "output_type": "execute_result",
          "data": {
            "text/plain": [
              "{10001: {'Expiry date': 'Jul 2022',\n",
              "  'Name': 'fennel(100gm)',\n",
              "  'Price': 70,\n",
              "  'Quantity': 100},\n",
              " 10002: {'Expiry date': 'Apr 2022',\n",
              "  'Name': 'bread(100gm)',\n",
              "  'Price': 120,\n",
              "  'Quantity': 50},\n",
              " 10003: {'Expiry date': 'Sep 2021',\n",
              "  'Name': 'jaggery(1pack)',\n",
              "  'Price': 20,\n",
              "  'Quantity': 80},\n",
              " 10004: {'Expiry date': 'Jul 2023',\n",
              "  'Name': 'chips(100gm)',\n",
              "  'Price': 100,\n",
              "  'Quantity': 60},\n",
              " 10005: {'Expiry date': 'Dec 2022',\n",
              "  'Name': 'pepper(1pack)',\n",
              "  'Price': 50,\n",
              "  'Quantity': 110},\n",
              " 10006: {'Expiry date': 'Aug 2024',\n",
              "  'Name': 'ponds powder(1pack)',\n",
              "  'Price': 120,\n",
              "  'Quantity': 100},\n",
              " 10007: {'Expiry date': 'Mar 2021',\n",
              "  'Name': 'stone salt(1pack)',\n",
              "  'Price': 75,\n",
              "  'Quantity': 200},\n",
              " 10008: {'Expiry date': 'Dec 2022',\n",
              "  'Name': 'elaichi tea(100gm)',\n",
              "  'Price': 55,\n",
              "  'Quantity': 65},\n",
              " 10009: {'Expiry date': 'Oct 2024',\n",
              "  'Name': 'soap powder(1kg)',\n",
              "  'Price': 40,\n",
              "  'Quantity': 290},\n",
              " 100010: {'Expiry date': 'Jul 2021',\n",
              "  'Name': 'french fries(1pack)',\n",
              "  'Price': 200,\n",
              "  'Quantity': 190},\n",
              " 100011: {'Expiry date': 'Mar 2025',\n",
              "  'Name': 'chekku oil(1lit)',\n",
              "  'Price': 380,\n",
              "  'Quantity': 537},\n",
              " 100012: {'Expiry date': 'Jun 2023',\n",
              "  'Name': 'ultra sticky gum(200gm)',\n",
              "  'Price': 150,\n",
              "  'Quantity': 300},\n",
              " 100013: {'Expiry date': 'Jan 2022',\n",
              "  'Name': 'lassi(1pack)',\n",
              "  'Price': 250,\n",
              "  'Quantity': 400},\n",
              " 100014: {'Expiry date': 'Nov 2023',\n",
              "  'Name': 'white sauce(1bottle)',\n",
              "  'Price': 300,\n",
              "  'Quantity': 80},\n",
              " 100015: {'Expiry date': 'Jul 2022',\n",
              "  'Name': 'sanitizer(100gm)',\n",
              "  'Price': 245,\n",
              "  'Quantity': 330},\n",
              " 100016: {'Expiry date': 'May 2023',\n",
              "  'Name': 'raisins(1pack)',\n",
              "  'Price': 20,\n",
              "  'Quantity': 600},\n",
              " 100017: {'Expiry date': 'Jan 2022',\n",
              "  'Name': 'tamarind(1pack)',\n",
              "  'Price': 50,\n",
              "  'Quantity': 100},\n",
              " 100018: {'Expiry date': 'Dec 2023',\n",
              "  'Name': 'baking Powder(1pack)',\n",
              "  'Price': 70,\n",
              "  'Quantity': 270},\n",
              " 100019: {'Expiry date': 'Jul 2024',\n",
              "  'Name': 'sugar(1pack)',\n",
              "  'Price': 120,\n",
              "  'Quantity': 400},\n",
              " 100020: {'Expiry date': 'Feb 2022',\n",
              "  'Name': 'sandalwood soap(100gm)',\n",
              "  'Price': 100,\n",
              "  'Quantity': 90},\n",
              " 100021: {'Expiry date': 'Nov 2021',\n",
              "  'Name': 'ice cream(1kg)',\n",
              "  'Price': 200,\n",
              "  'Quantity': 500},\n",
              " 100022: {'Expiry date': 'Jan 2024',\n",
              "  'Name': 'garam masala(1pack)',\n",
              "  'Price': 80,\n",
              "  'Quantity': 340},\n",
              " 100023: {'Expiry date': 'Nov 2022',\n",
              "  'Name': 'maida(1kg)',\n",
              "  'Price': 90,\n",
              "  'Quantity': 500},\n",
              " 100024: {'Expiry date': 'Sep 2023',\n",
              "  'Name': 'urdu dhall(1kg)',\n",
              "  'Price': 75,\n",
              "  'Quantity': 100},\n",
              " 100025: {'Expiry date': 'Mar 2023',\n",
              "  'Name': 'coriyander(1pack)',\n",
              "  'Price': 30,\n",
              "  'Quantity': 60},\n",
              " 100026: {'Expiry date': 'Sep 2021',\n",
              "  'Name': 'rose Milk(1bottle)',\n",
              "  'Price': 80,\n",
              "  'Quantity': 100},\n",
              " 100027: {'Expiry date': 'Nov 2021',\n",
              "  'Name': 'twisters(1pack)',\n",
              "  'Price': 180,\n",
              "  'Quantity': 40},\n",
              " 100028: {'Expiry date': 'Jul  2024',\n",
              "  'Name': 'multivitamin tablet(100gm)',\n",
              "  'Price': 130,\n",
              "  'Quantity': 10},\n",
              " 100029: {'Expiry date': 'Apr 2022',\n",
              "  'Name': 'organic milk(1lit)',\n",
              "  'Price': 350,\n",
              "  'Quantity': 115},\n",
              " 100030: {'Expiry date': 'Jan 2023',\n",
              "  'Name': 'peanut butter(100gm)',\n",
              "  'Price': 300,\n",
              "  'Quantity': 70},\n",
              " 100055: {'Expiry date': 'Jan 2022',\n",
              "  'Name': 'arab dates(1pack)',\n",
              "  'Price': 360,\n",
              "  'Quantity': 20}}"
            ]
          },
          "metadata": {},
          "execution_count": 32
        }
      ]
    }
  ]
}